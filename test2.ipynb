{
 "cells": [
  {
   "cell_type": "code",
   "execution_count": 11,
   "id": "fa4e28c2",
   "metadata": {
    "ExecuteTime": {
     "end_time": "2024-01-20T15:34:39.514121100Z",
     "start_time": "2024-01-20T15:34:39.504119500Z"
    }
   },
   "outputs": [],
   "source": [
    "import torch\n",
    "import pickle"
   ]
  },
  {
   "cell_type": "markdown",
   "id": "5373f8a3",
   "metadata": {
    "ExecuteTime": {
     "end_time": "2024-01-19T08:47:36.812962300Z",
     "start_time": "2024-01-19T08:47:36.793961900Z"
    },
    "collapsed": true
   },
   "source": [
    "# 原始数据"
   ]
  },
  {
   "cell_type": "code",
   "execution_count": 3,
   "id": "d79b84e4",
   "metadata": {},
   "outputs": [
    {
     "ename": "FileNotFoundError",
     "evalue": "[Errno 2] No such file or directory: './datasets/sp500_data.pkl'",
     "output_type": "error",
     "traceback": [
      "\u001b[1;31m---------------------------------------------------------------------------\u001b[0m",
      "\u001b[1;31mFileNotFoundError\u001b[0m                         Traceback (most recent call last)",
      "Cell \u001b[1;32mIn[3], line 2\u001b[0m\n\u001b[0;32m      1\u001b[0m data_path1 \u001b[38;5;241m=\u001b[39m \u001b[38;5;124m'\u001b[39m\u001b[38;5;124m./datasets/sp500_data.pkl\u001b[39m\u001b[38;5;124m'\u001b[39m\n\u001b[1;32m----> 2\u001b[0m \u001b[38;5;28;01mwith\u001b[39;00m \u001b[38;5;28;43mopen\u001b[39;49m\u001b[43m(\u001b[49m\u001b[43mdata_path1\u001b[49m\u001b[43m,\u001b[49m\u001b[43m \u001b[49m\u001b[38;5;124;43m\"\u001b[39;49m\u001b[38;5;124;43mrb\u001b[39;49m\u001b[38;5;124;43m\"\u001b[39;49m\u001b[43m)\u001b[49m \u001b[38;5;28;01mas\u001b[39;00m f:\n\u001b[0;32m      3\u001b[0m     data1 \u001b[38;5;241m=\u001b[39m pickle\u001b[38;5;241m.\u001b[39mload(f)\n\u001b[0;32m      4\u001b[0m data1\u001b[38;5;241m.\u001b[39mkeys()\n",
      "File \u001b[1;32mD:\\_Application\\anaconda3\\envs\\Pytorch\\lib\\site-packages\\IPython\\core\\interactiveshell.py:286\u001b[0m, in \u001b[0;36m_modified_open\u001b[1;34m(file, *args, **kwargs)\u001b[0m\n\u001b[0;32m    279\u001b[0m \u001b[38;5;28;01mif\u001b[39;00m file \u001b[38;5;129;01min\u001b[39;00m {\u001b[38;5;241m0\u001b[39m, \u001b[38;5;241m1\u001b[39m, \u001b[38;5;241m2\u001b[39m}:\n\u001b[0;32m    280\u001b[0m     \u001b[38;5;28;01mraise\u001b[39;00m \u001b[38;5;167;01mValueError\u001b[39;00m(\n\u001b[0;32m    281\u001b[0m         \u001b[38;5;124mf\u001b[39m\u001b[38;5;124m\"\u001b[39m\u001b[38;5;124mIPython won\u001b[39m\u001b[38;5;124m'\u001b[39m\u001b[38;5;124mt let you open fd=\u001b[39m\u001b[38;5;132;01m{\u001b[39;00mfile\u001b[38;5;132;01m}\u001b[39;00m\u001b[38;5;124m by default \u001b[39m\u001b[38;5;124m\"\u001b[39m\n\u001b[0;32m    282\u001b[0m         \u001b[38;5;124m\"\u001b[39m\u001b[38;5;124mas it is likely to crash IPython. If you know what you are doing, \u001b[39m\u001b[38;5;124m\"\u001b[39m\n\u001b[0;32m    283\u001b[0m         \u001b[38;5;124m\"\u001b[39m\u001b[38;5;124myou can use builtins\u001b[39m\u001b[38;5;124m'\u001b[39m\u001b[38;5;124m open.\u001b[39m\u001b[38;5;124m\"\u001b[39m\n\u001b[0;32m    284\u001b[0m     )\n\u001b[1;32m--> 286\u001b[0m \u001b[38;5;28;01mreturn\u001b[39;00m io_open(file, \u001b[38;5;241m*\u001b[39margs, \u001b[38;5;241m*\u001b[39m\u001b[38;5;241m*\u001b[39mkwargs)\n",
      "\u001b[1;31mFileNotFoundError\u001b[0m: [Errno 2] No such file or directory: './datasets/sp500_data.pkl'"
     ]
    }
   ],
   "source": [
    "data_path1 = './datasets/sp500_data.pkl'\n",
    "with open(data_path1, \"rb\") as f:\n",
    "    data1 = pickle.load(f)\n",
    "data1.keys()"
   ]
  },
  {
   "cell_type": "code",
   "execution_count": 4,
   "id": "4c75261c",
   "metadata": {},
   "outputs": [
    {
     "ename": "NameError",
     "evalue": "name 'data1' is not defined",
     "output_type": "error",
     "traceback": [
      "\u001b[1;31m---------------------------------------------------------------------------\u001b[0m",
      "\u001b[1;31mNameError\u001b[0m                                 Traceback (most recent call last)",
      "Cell \u001b[1;32mIn[4], line 1\u001b[0m\n\u001b[1;32m----> 1\u001b[0m \u001b[43mdata1\u001b[49m[\u001b[38;5;124m'\u001b[39m\u001b[38;5;124mtrain\u001b[39m\u001b[38;5;124m'\u001b[39m][\u001b[38;5;124m'\u001b[39m\u001b[38;5;124mx1\u001b[39m\u001b[38;5;124m'\u001b[39m]\u001b[38;5;241m.\u001b[39mshape\n",
      "\u001b[1;31mNameError\u001b[0m: name 'data1' is not defined"
     ]
    }
   ],
   "source": [
    "data1['train']['x1'].shape"
   ]
  },
  {
   "cell_type": "code",
   "execution_count": 5,
   "id": "dba6f924",
   "metadata": {},
   "outputs": [
    {
     "ename": "NameError",
     "evalue": "name 'data1' is not defined",
     "output_type": "error",
     "traceback": [
      "\u001b[1;31m---------------------------------------------------------------------------\u001b[0m",
      "\u001b[1;31mNameError\u001b[0m                                 Traceback (most recent call last)",
      "Cell \u001b[1;32mIn[5], line 1\u001b[0m\n\u001b[1;32m----> 1\u001b[0m time_step \u001b[38;5;241m=\u001b[39m \u001b[43mdata1\u001b[49m[\u001b[38;5;124m\"\u001b[39m\u001b[38;5;124mtrain\u001b[39m\u001b[38;5;124m\"\u001b[39m][\u001b[38;5;124m\"\u001b[39m\u001b[38;5;124mx1\u001b[39m\u001b[38;5;124m\"\u001b[39m][:, :, :, \u001b[38;5;241m1\u001b[39m:]\u001b[38;5;241m.\u001b[39mshape[\u001b[38;5;241m-\u001b[39m\u001b[38;5;241m2\u001b[39m] \u001b[38;5;66;03m# 7 \u001b[39;00m\n\u001b[0;32m      2\u001b[0m input_dim \u001b[38;5;241m=\u001b[39m data1[\u001b[38;5;124m\"\u001b[39m\u001b[38;5;124mtrain\u001b[39m\u001b[38;5;124m\"\u001b[39m][\u001b[38;5;124m\"\u001b[39m\u001b[38;5;124mx1\u001b[39m\u001b[38;5;124m\"\u001b[39m][:, :, :, \u001b[38;5;241m1\u001b[39m:]\u001b[38;5;241m.\u001b[39mshape[\u001b[38;5;241m-\u001b[39m\u001b[38;5;241m1\u001b[39m] \u001b[38;5;66;03m# 30 特征数量\u001b[39;00m\n\u001b[0;32m      3\u001b[0m num_weeks \u001b[38;5;241m=\u001b[39m data1[\u001b[38;5;124m\"\u001b[39m\u001b[38;5;124mtrain\u001b[39m\u001b[38;5;124m\"\u001b[39m][\u001b[38;5;124m\"\u001b[39m\u001b[38;5;124mx1\u001b[39m\u001b[38;5;124m\"\u001b[39m][:, :, :, \u001b[38;5;241m1\u001b[39m:]\u001b[38;5;241m.\u001b[39mshape[\u001b[38;5;241m0\u001b[39m]\n",
      "\u001b[1;31mNameError\u001b[0m: name 'data1' is not defined"
     ]
    }
   ],
   "source": [
    "time_step = data1[\"train\"][\"x1\"][:, :, :, 1:].shape[-2] # 7 \n",
    "input_dim = data1[\"train\"][\"x1\"][:, :, :, 1:].shape[-1] # 30 特征数量\n",
    "num_weeks = data1[\"train\"][\"x1\"][:, :, :, 1:].shape[0]  # 1578 周"
   ]
  },
  {
   "cell_type": "markdown",
   "id": "9cc48b68",
   "metadata": {},
   "source": [
    "# 新数据"
   ]
  },
  {
   "cell_type": "code",
   "execution_count": 30,
   "id": "e5652747",
   "metadata": {},
   "outputs": [
    {
     "data": {
      "text/plain": [
       "dict_keys(['train', 'test'])"
      ]
     },
     "execution_count": 30,
     "metadata": {},
     "output_type": "execute_result"
    }
   ],
   "source": [
    "data_path2 = './datasets/sp500_data2.pkl'\n",
    "with open(data_path2, \"rb\") as f:\n",
    "    data2 = pickle.load(f)\n",
    "data2.keys()"
   ]
  },
  {
   "cell_type": "code",
   "execution_count": 31,
   "id": "4611f0ca",
   "metadata": {},
   "outputs": [
    {
     "data": {
      "text/plain": [
       "dict_keys(['x', 'y_up_or_down', 'y_return ratio'])"
      ]
     },
     "execution_count": 31,
     "metadata": {},
     "output_type": "execute_result"
    }
   ],
   "source": [
    "data2['test'].keys()"
   ]
  },
  {
   "cell_type": "code",
   "execution_count": 32,
   "id": "e5934bbc",
   "metadata": {},
   "outputs": [
    {
     "data": {
      "text/plain": [
       "array([[-0.0039479 ,  0.02516846,  0.01565825, ...,  0.02962264,\n",
       "        -0.01777536, -0.00429104],\n",
       "       [ 0.00260586, -0.00389866,  0.00195693, ...,  0.02015111,\n",
       "        -0.00617282, -0.00703934],\n",
       "       [ 0.        , -0.00318879,  0.        , ...,  0.02387586,\n",
       "        -0.00816164, -0.00274293],\n",
       "       ...,\n",
       "       [-0.01234569,  0.02354644,  0.02953709, ...,  0.00663446,\n",
       "         0.00109847, -0.0054177 ],\n",
       "       [-0.00100805,  0.00282542,  0.00422626, ...,  0.01021139,\n",
       "        -0.00035468, -0.00532197],\n",
       "       [-0.01433898,  0.00727371,  0.0129983 , ...,  0.00977307,\n",
       "        -0.00518491, -0.00451699]])"
      ]
     },
     "execution_count": 32,
     "metadata": {},
     "output_type": "execute_result"
    }
   ],
   "source": [
    "data2['train']['y_return ratio']"
   ]
  },
  {
   "cell_type": "code",
   "execution_count": 24,
   "id": "11881a3c",
   "metadata": {},
   "outputs": [
    {
     "data": {
      "text/plain": [
       "(480, 1536, 10)"
      ]
     },
     "execution_count": 24,
     "metadata": {},
     "output_type": "execute_result"
    }
   ],
   "source": [
    "data2['train']['x'].shape"
   ]
  },
  {
   "cell_type": "code",
   "execution_count": 25,
   "id": "373250f5",
   "metadata": {},
   "outputs": [
    {
     "data": {
      "text/plain": [
       "(480, 1536)"
      ]
     },
     "execution_count": 25,
     "metadata": {},
     "output_type": "execute_result"
    }
   ],
   "source": [
    "data2['train']['y_return ratio'].shape"
   ]
  },
  {
   "cell_type": "code",
   "execution_count": 26,
   "id": "fdc9cfcb",
   "metadata": {},
   "outputs": [
    {
     "data": {
      "text/plain": [
       "torch.Size([480])"
      ]
     },
     "execution_count": 26,
     "metadata": {},
     "output_type": "execute_result"
    }
   ],
   "source": [
    "torch.Tensor(data2[\"train\"][\"y_up_or_down\"]).float().permute(1, 0)[32].shape"
   ]
  },
  {
   "cell_type": "code",
   "execution_count": 27,
   "id": "47d2e3c8",
   "metadata": {},
   "outputs": [
    {
     "data": {
      "text/plain": [
       "(480, 384)"
      ]
     },
     "execution_count": 27,
     "metadata": {},
     "output_type": "execute_result"
    }
   ],
   "source": [
    "data2['test']['y_return ratio'].shape"
   ]
  },
  {
   "cell_type": "code",
   "execution_count": 21,
   "id": "522a5ed6",
   "metadata": {},
   "outputs": [
    {
     "name": "stdout",
     "output_type": "stream",
     "text": [
      "0\n",
      "1\n",
      "2\n"
     ]
    }
   ],
   "source": [
    "for i in range(3):\n",
    "    print(i)"
   ]
  }
 ],
 "metadata": {
  "kernelspec": {
   "display_name": "Python 3 (ipykernel)",
   "language": "python",
   "name": "python3"
  },
  "language_info": {
   "codemirror_mode": {
    "name": "ipython",
    "version": 3
   },
   "file_extension": ".py",
   "mimetype": "text/x-python",
   "name": "python",
   "nbconvert_exporter": "python",
   "pygments_lexer": "ipython3",
   "version": "3.9.18"
  },
  "toc": {
   "base_numbering": 1,
   "nav_menu": {},
   "number_sections": true,
   "sideBar": true,
   "skip_h1_title": false,
   "title_cell": "Table of Contents",
   "title_sidebar": "Contents",
   "toc_cell": false,
   "toc_position": {},
   "toc_section_display": true,
   "toc_window_display": false
  }
 },
 "nbformat": 4,
 "nbformat_minor": 5
}
