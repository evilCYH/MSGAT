{
 "cells": [
  {
   "cell_type": "code",
   "execution_count": 2,
   "id": "fa4e28c2",
   "metadata": {
    "ExecuteTime": {
     "end_time": "2024-01-20T07:37:02.870983800Z",
     "start_time": "2024-01-20T07:37:02.860981700Z"
    }
   },
   "outputs": [],
   "source": [
    "import pickle"
   ]
  },
  {
   "cell_type": "markdown",
   "id": "5373f8a3",
   "metadata": {
    "ExecuteTime": {
     "end_time": "2024-01-19T08:47:36.812962300Z",
     "start_time": "2024-01-19T08:47:36.793961900Z"
    },
    "collapsed": true
   },
   "source": [
    "# 原始数据"
   ]
  },
  {
   "cell_type": "code",
   "execution_count": 3,
   "id": "d79b84e4",
   "metadata": {},
   "outputs": [
    {
     "data": {
      "text/plain": [
       "dict_keys(['train', 'test'])"
      ]
     },
     "execution_count": 3,
     "metadata": {},
     "output_type": "execute_result"
    }
   ],
   "source": [
    "data_path1 = './datasets/sp500_data.pkl'\n",
    "with open(data_path1, \"rb\") as f:\n",
    "    data1 = pickle.load(f)\n",
    "data1.keys()"
   ]
  },
  {
   "cell_type": "code",
   "execution_count": 4,
   "id": "4c75261c",
   "metadata": {},
   "outputs": [
    {
     "data": {
      "text/plain": [
       "(1578, 480, 7, 30)"
      ]
     },
     "execution_count": 4,
     "metadata": {},
     "output_type": "execute_result"
    }
   ],
   "source": [
    "data1['train']['x1'].shape"
   ]
  },
  {
   "cell_type": "code",
   "execution_count": 5,
   "id": "dba6f924",
   "metadata": {},
   "outputs": [],
   "source": [
    "time_step = data1[\"train\"][\"x1\"][:, :, :, 1:].shape[-2] # 7 \n",
    "input_dim = data1[\"train\"][\"x1\"][:, :, :, 1:].shape[-1] # 30 特征数量\n",
    "num_weeks = data1[\"train\"][\"x1\"][:, :, :, 1:].shape[0]  # 1578 周"
   ]
  },
  {
   "cell_type": "markdown",
   "id": "9cc48b68",
   "metadata": {},
   "source": [
    "# 新数据"
   ]
  },
  {
   "cell_type": "code",
   "execution_count": 11,
   "id": "e5652747",
   "metadata": {},
   "outputs": [
    {
     "data": {
      "text/plain": [
       "dict_keys(['train', 'test'])"
      ]
     },
     "execution_count": 11,
     "metadata": {},
     "output_type": "execute_result"
    }
   ],
   "source": [
    "data_path2 = './datasets/sp500_data2.pkl'\n",
    "with open(data_path2, \"rb\") as f:\n",
    "    data2 = pickle.load(f)\n",
    "data2.keys()"
   ]
  },
  {
   "cell_type": "code",
   "execution_count": 12,
   "id": "4611f0ca",
   "metadata": {},
   "outputs": [
    {
     "data": {
      "text/plain": [
       "dict_keys(['x', 'y_return ratio', 'y_up_or_down'])"
      ]
     },
     "execution_count": 12,
     "metadata": {},
     "output_type": "execute_result"
    }
   ],
   "source": [
    "data2['test'].keys()"
   ]
  },
  {
   "cell_type": "code",
   "execution_count": 14,
   "id": "11881a3c",
   "metadata": {},
   "outputs": [
    {
     "data": {
      "text/plain": [
       "(480, 1536, 10)"
      ]
     },
     "execution_count": 14,
     "metadata": {},
     "output_type": "execute_result"
    }
   ],
   "source": [
    "data2['train']['x'].shape"
   ]
  },
  {
   "cell_type": "code",
   "execution_count": 8,
   "id": "373250f5",
   "metadata": {},
   "outputs": [
    {
     "ename": "SyntaxError",
     "evalue": "invalid syntax (1240957927.py, line 1)",
     "output_type": "error",
     "traceback": [
      "\u001b[1;36m  Cell \u001b[1;32mIn[8], line 1\u001b[1;36m\u001b[0m\n\u001b[1;33m    time_step =\u001b[0m\n\u001b[1;37m                ^\u001b[0m\n\u001b[1;31mSyntaxError\u001b[0m\u001b[1;31m:\u001b[0m invalid syntax\n"
     ]
    }
   ],
   "source": [
    "time_step = 1"
   ]
  }
 ],
 "metadata": {
  "kernelspec": {
   "display_name": "Python 3 (ipykernel)",
   "language": "python",
   "name": "python3"
  },
  "language_info": {
   "codemirror_mode": {
    "name": "ipython",
    "version": 3
   },
   "file_extension": ".py",
   "mimetype": "text/x-python",
   "name": "python",
   "nbconvert_exporter": "python",
   "pygments_lexer": "ipython3",
   "version": "3.9.18"
  },
  "toc": {
   "base_numbering": 1,
   "nav_menu": {},
   "number_sections": true,
   "sideBar": true,
   "skip_h1_title": false,
   "title_cell": "Table of Contents",
   "title_sidebar": "Contents",
   "toc_cell": false,
   "toc_position": {},
   "toc_section_display": true,
   "toc_window_display": false
  }
 },
 "nbformat": 4,
 "nbformat_minor": 5
}
